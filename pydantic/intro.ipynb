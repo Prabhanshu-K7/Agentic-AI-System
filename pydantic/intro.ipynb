{
 "cells": [
  {
   "cell_type": "markdown",
   "id": "4721637f",
   "metadata": {},
   "source": [
    "## Pydantic : Creating and using models\n",
    "\n",
    "Pydantic models are the foundation of data validation in python. \n",
    "They use python type annotations to define the structure and validate data at runtime"
   ]
  },
  {
   "cell_type": "code",
   "execution_count": 1,
   "id": "fe82aa27",
   "metadata": {},
   "outputs": [],
   "source": [
    "from pydantic import BaseModel"
   ]
  },
  {
   "cell_type": "code",
   "execution_count": 2,
   "id": "fa4fd9bd",
   "metadata": {},
   "outputs": [
    {
     "name": "stdout",
     "output_type": "stream",
     "text": [
      "Person(name='John Doe', age=30, city='New York')\n"
     ]
    }
   ],
   "source": [
    "from dataclasses import dataclass\n",
    "@dataclass\n",
    "class Person():\n",
    "    name:str\n",
    "    age:int\n",
    "    city:str\n",
    "\n",
    "person=Person(name=\"John Doe\", age=30, city=\"New York\")\n",
    "print(person)"
   ]
  },
  {
   "cell_type": "code",
   "execution_count": 3,
   "id": "83eafbf2",
   "metadata": {},
   "outputs": [
    {
     "name": "stdout",
     "output_type": "stream",
     "text": [
      "name='John Doe' age=30 city='New York'\n"
     ]
    }
   ],
   "source": [
    "class Person(BaseModel):\n",
    "    name:str\n",
    "    age:int\n",
    "    city:str\n",
    "\n",
    "person=Person(name=\"John Doe\", age=30, city=\"New York\")\n",
    "print(person)"
   ]
  },
  {
   "cell_type": "code",
   "execution_count": 4,
   "id": "d3263a7a",
   "metadata": {},
   "outputs": [
    {
     "data": {
      "text/plain": [
       "__main__.Person"
      ]
     },
     "execution_count": 4,
     "metadata": {},
     "output_type": "execute_result"
    }
   ],
   "source": [
    "type(person)"
   ]
  },
  {
   "cell_type": "code",
   "execution_count": 5,
   "id": "e47ea740",
   "metadata": {},
   "outputs": [
    {
     "name": "stdout",
     "output_type": "stream",
     "text": [
      "name='John Doe' age=30 city='New York'\n"
     ]
    }
   ],
   "source": [
    "\n",
    "person1=Person(name=\"John Doe\", age=30, city=\"New York\")\n",
    "print(person1)"
   ]
  },
  {
   "cell_type": "markdown",
   "id": "fe80c4dc",
   "metadata": {},
   "source": [
    "#### Model with optional fields\n",
    "\n",
    "Add optional fields using Python's Optional type:"
   ]
  },
  {
   "cell_type": "code",
   "execution_count": 6,
   "id": "0f48c7b4",
   "metadata": {},
   "outputs": [],
   "source": [
    "from typing import Optional\n",
    "class Employee(BaseModel):\n",
    "    id:int\n",
    "    name:str\n",
    "    department:str\n",
    "    salary:Optional[float]=None # Optional field with default value None\n",
    "    is_active:Optional[bool]=True # Optional field with default value Trure\n",
    "\n",
    "\n"
   ]
  },
  {
   "cell_type": "code",
   "execution_count": 7,
   "id": "38976957",
   "metadata": {},
   "outputs": [
    {
     "name": "stdout",
     "output_type": "stream",
     "text": [
      "id=1 name='Alice' department='HR' salary=None is_active=True\n"
     ]
    }
   ],
   "source": [
    "emp1=Employee(id=1, name=\"Alice\", department=\"HR\")\n",
    "print(emp1)"
   ]
  },
  {
   "cell_type": "markdown",
   "id": "0682726d",
   "metadata": {},
   "source": [
    "#### Definition:\n",
    "- Optional[type]: Indicates the field can be None\n",
    "\n",
    "- Default value(=None or =True): Makes the field optional\n",
    "\n",
    "- Required fields must still be provided\n",
    "\n",
    "- Pydantic validates types even for optional fields when values are provided\n"
   ]
  },
  {
   "cell_type": "code",
   "execution_count": 8,
   "id": "0715d359",
   "metadata": {},
   "outputs": [],
   "source": [
    "from pydantic import BaseModel\n",
    "from typing import List\n",
    "\n",
    "class Classroom(BaseModel):\n",
    "    room_number: str\n",
    "    students: List[str]\n",
    "    capacit: int"
   ]
  },
  {
   "cell_type": "code",
   "execution_count": 9,
   "id": "6fe9d8e7",
   "metadata": {},
   "outputs": [
    {
     "name": "stdout",
     "output_type": "stream",
     "text": [
      "room_number='101' students=['Alice', 'Bob', 'Charlie'] capacit=30\n"
     ]
    }
   ],
   "source": [
    "classroom = Classroom(\n",
    "    room_number=\"101\",\n",
    "    students=[\"Alice\", \"Bob\", \"Charlie\"],\n",
    "    capacit=30\n",
    ")\n",
    "print(classroom)"
   ]
  },
  {
   "cell_type": "code",
   "execution_count": 10,
   "id": "675f17a8",
   "metadata": {},
   "outputs": [
    {
     "name": "stdout",
     "output_type": "stream",
     "text": [
      "Validation error: 1 validation error for Classroom\n",
      "students.1\n",
      "  Input should be a valid string [type=string_type, input_value=123, input_type=int]\n",
      "    For further information visit https://errors.pydantic.dev/2.11/v/string_type\n"
     ]
    }
   ],
   "source": [
    "try:\n",
    "    invalid_classroom = Classroom(room_number=\"102\", students=[\"Alice\",123], capacit=30)\n",
    "except ValueError as e:\n",
    "    print(f\"Validation error: {e}\")"
   ]
  },
  {
   "cell_type": "markdown",
   "id": "49862995",
   "metadata": {},
   "source": [
    "#### Model with Nested Models\n",
    "Create complex structures with nested models:"
   ]
  },
  {
   "cell_type": "code",
   "execution_count": 1,
   "id": "315a4739",
   "metadata": {},
   "outputs": [
    {
     "name": "stdout",
     "output_type": "stream",
     "text": [
      "customer_id=1 name='John Doe' address=Address(street='123 Main St', city='New York', zip_code='10001')\n"
     ]
    }
   ],
   "source": [
    "from pydantic import BaseModel\n",
    "\n",
    "class Address(BaseModel):\n",
    "    street: str\n",
    "    city: str\n",
    "    zip_code: str\n",
    "\n",
    "class Customer(BaseModel):\n",
    "    customer_id: int\n",
    "    name: str\n",
    "    address: Address # Nested model\n",
    "\n",
    "# Create a customer with nested address\n",
    "customer = Customer(\n",
    "    customer_id=1,\n",
    "    name=\"John Doe\",\n",
    "    address=Address(street=\"123 Main St\", city=\"New York\", zip_code=\"10001\")\n",
    ")\n",
    "print(customer)"
   ]
  },
  {
   "cell_type": "markdown",
   "id": "fa4d9ab8",
   "metadata": {},
   "source": [
    "#### Pydantic Fields: Customization and Constraints\n",
    "The Field function in pydantic enhances model fields beyond basic type hints by allowing you to specify validation rules, default values, aliases, and more. Here's a comprehensive tutorial with examples."
   ]
  },
  {
   "cell_type": "code",
   "execution_count": 6,
   "id": "b43b88c1",
   "metadata": {},
   "outputs": [
    {
     "name": "stdout",
     "output_type": "stream",
     "text": [
      "name='Book' price=15.99 quantity=5\n"
     ]
    }
   ],
   "source": [
    "from pydantic import BaseModel, Field\n",
    "\n",
    "class Item(BaseModel):\n",
    "    name:str=Field(min_length=2, max_length=50)\n",
    "    price:float=Field(gt=0,le=1000) # price must be greater than 0 and less than or equal to 1000\n",
    "    quantity:int=Field(ge=0)\n",
    "\n",
    "# Valild Instance\n",
    "item = Item(name=\"Book\", price=15.99, quantity=5)\n",
    "\n",
    "print(item)"
   ]
  },
  {
   "cell_type": "code",
   "execution_count": 10,
   "id": "e17275d6",
   "metadata": {},
   "outputs": [
    {
     "name": "stdout",
     "output_type": "stream",
     "text": [
      "username='alice' age=18 email='user@example.com'\n",
      "username='bob' age=20 email='bob@domain.com'\n"
     ]
    }
   ],
   "source": [
    "from pydantic import BaseModel, Field\n",
    "\n",
    "class User(BaseModel):\n",
    "    username: str = Field(..., description=\"Unique username for the user\")\n",
    "    age: int = Field(default=18, description=\"User age, defualts to 18\")\n",
    "    email: str = Field(default_factory=lambda: \"user@example.com\", description=\"Defualt email address\") \n",
    "\n",
    "# Examples\n",
    "user1 = User(username=\"alice\")\n",
    "print(user1)\n",
    "\n",
    "user2 = User(username=\"bob\", age=20, email=\"bob@domain.com\")\n",
    "print(user2)"
   ]
  },
  {
   "cell_type": "code",
   "execution_count": 12,
   "id": "11682e0b",
   "metadata": {},
   "outputs": [
    {
     "name": "stdout",
     "output_type": "stream",
     "text": [
      "{'properties': {'username': {'description': 'Unique username for the user', 'title': 'Username', 'type': 'string'}, 'age': {'default': 18, 'description': 'User age, defualts to 18', 'title': 'Age', 'type': 'integer'}, 'email': {'description': 'Defualt email address', 'title': 'Email', 'type': 'string'}}, 'required': ['username'], 'title': 'User', 'type': 'object'}\n"
     ]
    }
   ],
   "source": [
    "print(User.model_json_schema())"
   ]
  },
  {
   "cell_type": "code",
   "execution_count": null,
   "id": "f4a8ae68",
   "metadata": {},
   "outputs": [],
   "source": []
  }
 ],
 "metadata": {
  "kernelspec": {
   "display_name": "venv",
   "language": "python",
   "name": "python3"
  },
  "language_info": {
   "codemirror_mode": {
    "name": "ipython",
    "version": 3
   },
   "file_extension": ".py",
   "mimetype": "text/x-python",
   "name": "python",
   "nbconvert_exporter": "python",
   "pygments_lexer": "ipython3",
   "version": "3.13.2"
  }
 },
 "nbformat": 4,
 "nbformat_minor": 5
}
