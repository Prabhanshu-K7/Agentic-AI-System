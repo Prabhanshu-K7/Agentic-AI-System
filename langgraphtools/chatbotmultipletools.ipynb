{
 "cells": [
  {
   "cell_type": "code",
   "execution_count": 1,
   "id": "60fbc523",
   "metadata": {},
   "outputs": [],
   "source": [
    "## tools\n",
    "from langchain_community.tools import ArxivQueryRun,WikipediaQueryRun\n",
    "from langchain_community.utilities import WikipediaAPIWrapper,ArxivAPIWrapper\n"
   ]
  },
  {
   "cell_type": "code",
   "execution_count": 2,
   "id": "869ba27f",
   "metadata": {},
   "outputs": [
    {
     "name": "stdout",
     "output_type": "stream",
     "text": [
      "arxiv\n"
     ]
    }
   ],
   "source": [
    "api_wrapper_arxiv = ArxivAPIWrapper(top_k_results=2,doc_content_chars_max=500)\n",
    "arxiv=ArxivQueryRun(api_wrapper=api_wrapper_arxiv,description=\"Query arxiv papers\")\n",
    "print(arxiv.name)"
   ]
  },
  {
   "cell_type": "code",
   "execution_count": 3,
   "id": "08bd2910",
   "metadata": {},
   "outputs": [
    {
     "data": {
      "text/plain": [
       "\"Published: 2024-07-22\\nTitle: Attention Is All You Need But You Don't Need All Of It For Inference of Large Language Models\\nAuthors: Georgy Tyukin, Gbetondji J-S Dovonon, Jean Kaddour, Pasquale Minervini\\nSummary: The inference demand for LLMs has skyrocketed in recent months, and serving\\nmodels with low latencies remains challenging due to the quadratic input length\\ncomplexity of the attention layers. In this work, we investigate the effect of\\ndropping MLP and attention layers at inference time o\""
      ]
     },
     "execution_count": 3,
     "metadata": {},
     "output_type": "execute_result"
    }
   ],
   "source": [
    "arxiv.invoke(\"Attention is all you need\")"
   ]
  },
  {
   "cell_type": "code",
   "execution_count": 4,
   "id": "fca056b2",
   "metadata": {},
   "outputs": [
    {
     "name": "stdout",
     "output_type": "stream",
     "text": [
      "wikipedia\n"
     ]
    }
   ],
   "source": [
    "api_wrapper_wiki = WikipediaAPIWrapper(top_k_results=1,doc_content_chars_max=500)\n",
    "wiki=WikipediaQueryRun(api_wrapper=api_wrapper_wiki,description=\"Query Wikipedia\")\n",
    "print(wiki.name)"
   ]
  },
  {
   "cell_type": "code",
   "execution_count": 5,
   "id": "8f7efe3f",
   "metadata": {},
   "outputs": [],
   "source": [
    "from dotenv import load_dotenv\n",
    "load_dotenv()\n",
    "\n",
    "import os\n",
    "\n",
    "os.environ[\"TAVILY_API_KEY\"] = os.getenv(\"TAVILY_API_KEY\")\n",
    "# os.environ[\"GROQ_API_KEY\"] = os.getenv(\"GROQ_API_KEY\")"
   ]
  },
  {
   "cell_type": "code",
   "execution_count": 6,
   "id": "f5cceb29",
   "metadata": {},
   "outputs": [],
   "source": [
    "## Tavily search tool\n",
    "from langchain_community.tools.tavily_search import TavilySearchResults\n",
    "\n",
    "tavily = TavilySearchResults()"
   ]
  },
  {
   "cell_type": "code",
   "execution_count": 7,
   "id": "93b2c5f1",
   "metadata": {},
   "outputs": [
    {
     "data": {
      "text/plain": [
       "[{'title': 'Paris facts: the capital of France in history',\n",
       "  'url': 'https://home.adelphi.edu/~ca19535/page%204.html',\n",
       "  'content': 'Paris is the capital of France, the largest country of Europe with 550 000 km2 (65 millions inhabitants). Paris has 2.234 million inhabitants end 2011.',\n",
       "  'score': 0.8997663},\n",
       " {'title': 'Paris - Wikipedia',\n",
       "  'url': 'https://en.wikipedia.org/wiki/Paris',\n",
       "  'content': 'Paris (French pronunciation: [paʁi] ⓘ) is the capital and largest city of France. With an estimated population of 2,048,472 residents in January 2025[3] in an area of more than 105\\xa0km2 (41\\xa0sq\\xa0mi),[4] Paris is the fourth-most populous city in the European Union, the ninth-most populous city in Europe and the 30th most densely populated city in the world in 2022.[5] Since the 17th century, Paris has been one of the world\\'s major centres of finance, diplomacy, commerce, culture, fashion, and [...] As the capital of France, Paris is the seat of France\\'s national government. For the executive, the two chief officers each have their own official residences, which also serve as their offices. The President of the French Republic resides at the Élysée Palace.[122] The Prime Minister\\'s seat is at the Hôtel Matignon.[123][124] Government ministries are located in various parts of the city, many near the Hôtel Matignon.[125] [...] Jump to content\\nMain menu\\nSearch\\nAppearance\\nDonate\\nCreate account\\nLog in\\nPersonal tools\\n        Photograph your local culture, help Wikipedia and win!\\nToggle the table of contents\\nParis\\n279 languages\\nArticle\\nTalk\\nRead\\nView source\\nView history\\nTools\\nCoordinates: 48°51′24″N 2°21′8″E\\nFrom Wikipedia, the free encyclopedia\\nThis article is about the capital city of France. For other uses, see Paris (disambiguation).\\n\"Parisien\" redirects here. For other uses, see Parisien (disambiguation).\\nParis',\n",
       "  'score': 0.8827621},\n",
       " {'title': 'Paris | Definition, Map, Population, Facts, & History - Britannica',\n",
       "  'url': 'https://www.britannica.com/place/Paris',\n",
       "  'content': \"Paris is the capital of what country?\\nParis is the national capital of France.\\nNews •\\nJD Vance will attend AI summit in Paris and Munich security conference in first overseas trip as VP • Feb. 4, 2025, 11:53 AM ET (AP) ...(Show more)\\nFilm director found guilty of sexual assault in France’s first big #MeToo trial • Feb. 3, 2025, 9:20 AM ET (AP)\\nGisèle Pelicot's ex-husband, imprisoned for raping and drugging her, now caught up in other cases • Jan. 30, 2025, 11:56 AM ET (AP) [...] Paris, city and capital of France, situated in the north-central part of the country. People were living on the site of the present-day city, located along the Seine River some 233 miles (375 km) upstream from the river’s mouth on the English Channel (La Manche), by about 7600 bce. The modern city has spread from the island (the Île de la Cité) and far beyond both banks of the Seine. [...] 7 of History's Most Notorious Serial Killers\\n\\nWhere Does the Name Europe Come From?\\n\\nInventors and Inventions of the Industrial Revolution\\n\\nCauses of the Great Depression\\n\\n10 Legendary Creatures from Around the World\\nContents\\nGeography & Travel Cities & Towns Cities & Towns P-S\\n\\nParis; Eiffel Tower View of the Paris skyline from Montparnasse. (more)\\nParis\\nnational capital, France\\nAsk the Chatbot a Question\\nMore Actions\\nPrint\\nprint Print\\nPlease select which sections you would like to print:\",\n",
       "  'score': 0.8752871},\n",
       " {'title': 'France | History, Maps, Flag, Population, Cities, Capital, & Facts',\n",
       "  'url': 'https://www.britannica.com/place/France',\n",
       "  'content': 'The capital and by far the most important city of France is Paris, one of the world’s preeminent cultural and commercial centres. A majestic city known as the ville lumière, or “city of light,” Paris has often been remade, most famously in the mid-19th century under the command of Georges-Eugène, Baron Haussman, who was committed to Napoleon III’s vision of a modern city free of the choleric swamps and congested alleys of old, with broad avenues and a regular plan. Paris is now a sprawling [...] See article: flag of France\\nAudio File: Anthem of France (see article)\\nHead Of Government:\\nPrime minister: Michel Barnier\\n(Show\\xa0more)\\nCapital:\\nParis\\n(Show\\xa0more)\\nPopulation:\\n(2025 est.) 66,607,000\\n(Show\\xa0more)\\nCurrency Exchange Rate:\\n1 USD equals 0.937 euro\\n(Show\\xa0more)\\nHead Of State:\\nPresident: Emmanuel Macron\\n(Show\\xa0more)\\nForm Of Government:\\nrepublic with two legislative houses (Parliament; Senate [348], National Assembly [577])\\n(Show\\xa0more)\\nOfficial Language:\\nFrench\\n(Show\\xa0more) [...] Are you a student?\\nGet a special academic rate on Britannica Premium.\\nSubscribe\\nAmong France’s other major cities are Lyon, located along an ancient Rhône valley trade route linking the North Sea and the Mediterranean; Marseille, a multiethnic port on the Mediterranean founded as an entrepôt for Greek and Carthaginian traders in the 6th century bce; Nantes, an industrial centre and deepwater harbour along the Atlantic coast; and Bordeaux, located in southwestern France along the Garonne River.',\n",
       "  'score': 0.8729662},\n",
       " {'title': 'Paris, France - Intercultural City - The Council of Europe',\n",
       "  'url': 'https://www.coe.int/en/web/interculturalcities/paris',\n",
       "  'content': 'Paris is the capital and most populous city of France. Situated on the Seine River, in the north of the country, it is in the centre of the Île-de-France region, also known as the région parisienne, \"Paris Region\". The City of Paris has an area of 105\\xa0km² and a population of 2,241,346 (2014 estimate). Since the 19th century, the built-up area of Paris has grown far beyond its administrative borders; together with its suburbs, the whole agglomeration has a population of 10,550,350 (Jan. 2012',\n",
       "  'score': 0.8405867}]"
      ]
     },
     "execution_count": 7,
     "metadata": {},
     "output_type": "execute_result"
    }
   ],
   "source": [
    "tavily.invoke(\"What is the capital of France?\")"
   ]
  },
  {
   "cell_type": "code",
   "execution_count": 8,
   "id": "be76fa02",
   "metadata": {},
   "outputs": [],
   "source": [
    "## combine all these tools in the list\n",
    "tools = [arxiv, wiki, tavily]"
   ]
  },
  {
   "cell_type": "code",
   "execution_count": 9,
   "id": "de8632e3",
   "metadata": {},
   "outputs": [],
   "source": [
    "## Initializse the LLM Model\n",
    "from langchain_groq import ChatGroq\n",
    "\n",
    "llm=ChatGroq(model=\"qwen-qwq-32b\",api_key=\"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\")\n"
   ]
  },
  {
   "cell_type": "code",
   "execution_count": 10,
   "id": "8694310d",
   "metadata": {},
   "outputs": [
    {
     "data": {
      "text/plain": [
       "AIMessage(content='\\n<think>\\nOkay, so I need to figure out what the capital of India is. Let me start by recalling any information I have about India\\'s geography and politics. I know India is a big country in South Asia, and like many countries, it has a capital city where the government is based. But wait, I might be mixing up some details here. Let me think step by step.\\n\\nFirst, India\\'s government is a federal parliamentary democratic republic, right? That usually means there\\'s a capital city where the President, Prime Minister, and the Parliament are located. Now, what cities in India come to mind? Major cities like Mumbai, Delhi, Bangalore, Kolkata... Hmm, Mumbai was the capital before? Wait, I think there was a change. I remember hearing that the capital was shifted from Mumbai to somewhere else a long time ago. \\n\\nWait, Mumbai is in Maharashtra, but Delhi is a separate union territory. Delhi is a major city, but is it the capital? I think so. Let me verify. I recall that New Delhi is a part of Delhi, and it\\'s often mentioned as the capital. But sometimes people refer to the entire National Capital Territory as Delhi. So maybe the capital is New Delhi, but it\\'s within Delhi. \\n\\nWait, let me make sure not to confuse the National Capital Territory of Delhi with the city of New Delhi. New Delhi is actually a smaller area within Delhi that serves as the capital. So the capital city is New Delhi, but it\\'s part of the larger Delhi region. \\n\\nBut sometimes people just say Delhi as the capital. Maybe both are correct, but technically New Delhi is the official capital? Let me check my memory for any historical context. I think India gained independence in 1947, and before that, the British colonial capital was Calcutta (now Kolkata). But after independence, they moved the capital. Wait, was it moved to Delhi then? \\n\\nYes, I think the capital was shifted from Kolkata to Delhi post-independence. So Delhi became the capital. But why the confusion between Delhi and New Delhi? Because New Delhi is a distinct area within Delhi that was built by the British to serve as the seat of government. So the government buildings, like the Parliament, the President\\'s residence, and foreign embassies, are located in New Delhi. \\n\\nTherefore, while Delhi is the broader metropolitan area and the union territory, the actual capital is New Delhi. However, when people ask for the capital city, they might refer to Delhi as a whole. But to be precise, the answer should be New Delhi. Wait, let me think again. Maybe the official capital is just called Delhi, but the city is named New Delhi? Or is New Delhi a part of the capital area? \\n\\nAlternatively, maybe the capital is simply referred to as New Delhi. Let me think of examples. When I see news articles, they often say the Indian government is in New Delhi, not just Delhi. So perhaps the official capital is New Delhi. However, in common usage, people might just say Delhi. \\n\\nAlternatively, maybe the National Capital Territory of Delhi is the administrative division, and within that, the capital city is New Delhi. So the answer is New Delhi. \\n\\nWait, but sometimes sources just say Delhi. Let me try to recall any official sources. The Government of India\\'s official website or any reliable source. For instance, the Parliament of India is located in New Delhi. The President\\'s residence (Rashtrapati Bhavan) is in New Delhi. So the administrative capital is New Delhi. Therefore, the correct answer is New Delhi. \\n\\nBut I need to be careful here. Let me also consider that some countries have their capital named as the larger city, even if the government is in a part of it. For example, Washington, D.C. is the capital of the U.S., not just Washington state or D.C. Similarly, here, New Delhi is the capital within the Delhi NCR (National Capital Region). \\n\\nAlternatively, maybe the capital is referred to as Delhi, with New Delhi being a part of it. Let me check my knowledge again. The capital of India is New Delhi. Yes, that\\'s what I remember from school. So the answer should be New Delhi. \\n\\nWait, but sometimes in quizzes or general knowledge questions, they might accept Delhi as the answer. But the exact name is New Delhi. Hmm. Let me think if there\\'s any other possibility. \\n\\nAlternatively, could it be Mumbai? No, Mumbai was the capital under the British rule before 1911, but later the capital was moved to Delhi. Before that, Kolkata was the capital. So after independence, Delhi remained the capital. \\n\\nAnother angle: the current Prime Minister\\'s office is in New Delhi. The India Gate, the Parliament, and all the major government buildings are in New Delhi. So yes, the capital is New Delhi. Therefore, the correct answer is New Delhi. But maybe the user just expects \"Delhi\" as the answer. Let me confirm once more. \\n\\nLooking up in my mind, the official capital is New Delhi. But in common usage, people might say Delhi. However, the question is straightforward: \"What is the capital of India?\" The standard answer is New Delhi. But wait, maybe the official name is just Delhi? Let me think of international references. For example, the United Nations list of capitals would have New Delhi as the capital of India. \\n\\nAlternatively, perhaps the country\\'s capital is officially Delhi, with New Delhi being a district within it. The National Capital Territory of Delhi includes New Delhi as its capital district. But when asked the capital city, it\\'s usually referred to as New Delhi. \\n\\nAlternatively, maybe the answer is simply Delhi? Hmm, conflicting thoughts here. Let me think of the Indian government\\'s own sources. The Government of India\\'s official website probably says New Delhi as the capital. \\n\\nAlternatively, maybe the confusion comes from the fact that the national capital territory is called Delhi, and within it, the capital is New Delhi. So the answer depends on how specific the question is. Since the question is simply \"What is the capital of India?\", the answer is New Delhi. \\n\\nWait, but I might be overcomplicating. Let me recall school textbooks. In my school days, the capital was taught as New Delhi. However, sometimes it\\'s referred to as Delhi in common parlance. \\n\\nAlternatively, perhaps both are acceptable, but the correct, official name is New Delhi. \\n\\nAlternatively, maybe the user expects the answer as Delhi, but to be precise, it\\'s New Delhi. Let me verify through another angle. The seat of the Government of India is in New Delhi. The Supreme Court is there, the President\\'s residence, etc. So yes, the capital is New Delhi. \\n\\nTherefore, I should answer New Delhi. \\n\\nBut let me think again. Let me recall the official designation. According to the Constitution of India, the national capital is called the National Capital Territory of Delhi, but the capital city is New Delhi. \\n\\nAlternatively, maybe the answer is Delhi, and New Delhi is a part of it. Let me think of other countries. For instance, the capital of the United States is Washington, D.C., not just Washington. So similar to that, the capital is New Delhi, part of Delhi. \\n\\nTherefore, the correct answer is New Delhi. However, sometimes it\\'s commonly referred to as Delhi. But since the question is straightforward, I should go with New Delhi as the official capital. \\n\\nWait, actually, checking my memory again, I think the correct answer is New Delhi. However, let me check if there was any recent change? No, I don\\'t think so. \\n\\nWait a second, the capital of India is New Delhi. Yes, that\\'s right. So the answer should be New Delhi.\\n</think>\\n\\nThe capital of India is **New Delhi**. \\n\\nTo provide more detail:  \\n- **New Delhi** is a distinct area within the larger National Capital Territory of Delhi.  \\n- It serves as the seat of India\\'s government, housing key institutions such as the Parliament of India, the Rashtrapati Bhavan (President\\'s residence), and the Supreme Court.  \\n- While \"Delhi\" refers to the broader metropolitan region, \"New Delhi\" is the official capital city.  \\n\\nThus, the correct answer is **New Delhi**.', additional_kwargs={}, response_metadata={'token_usage': {'completion_tokens': 1713, 'prompt_tokens': 17, 'total_tokens': 1730, 'completion_time': 4.227697717, 'prompt_time': 0.003605221, 'queue_time': 0.7229793259999999, 'total_time': 4.231302938}, 'model_name': 'qwen-qwq-32b', 'system_fingerprint': 'fp_07cd5d759a', 'finish_reason': 'stop', 'logprobs': None}, id='run-af3c75f4-45de-4501-87a8-5d9b54e935e4-0', usage_metadata={'input_tokens': 17, 'output_tokens': 1713, 'total_tokens': 1730})"
      ]
     },
     "execution_count": 10,
     "metadata": {},
     "output_type": "execute_result"
    }
   ],
   "source": [
    "llm.invoke(\"What is the capital of India?\")"
   ]
  },
  {
   "cell_type": "code",
   "execution_count": 11,
   "id": "7560d7ab",
   "metadata": {},
   "outputs": [],
   "source": [
    "llm_with_tools=llm.bind_tools(tools=tools)\n"
   ]
  },
  {
   "cell_type": "code",
   "execution_count": 12,
   "id": "831dc0a2",
   "metadata": {},
   "outputs": [
    {
     "data": {
      "text/plain": [
       "AIMessage(content='', additional_kwargs={'tool_calls': [{'id': 'call_rpb0', 'function': {'arguments': '{\"query\": \"recent news on AI\"}', 'name': 'tavily_search_results_json'}, 'type': 'function'}]}, response_metadata={'token_usage': {'completion_tokens': 151, 'prompt_tokens': 322, 'total_tokens': 473, 'completion_time': 0.366577141, 'prompt_time': 0.02244825, 'queue_time': 0.23591710700000001, 'total_time': 0.389025391}, 'model_name': 'qwen-qwq-32b', 'system_fingerprint': 'fp_3796682456', 'finish_reason': 'tool_calls', 'logprobs': None}, id='run-217c3ade-1968-4327-ad95-67f671b84b1d-0', tool_calls=[{'name': 'tavily_search_results_json', 'args': {'query': 'recent news on AI'}, 'id': 'call_rpb0', 'type': 'tool_call'}], usage_metadata={'input_tokens': 322, 'output_tokens': 151, 'total_tokens': 473})"
      ]
     },
     "execution_count": 12,
     "metadata": {},
     "output_type": "execute_result"
    }
   ],
   "source": [
    "## Execute the LLM with tools\n",
    "llm_with_tools.invoke(\"What is the recent news on ai?\")"
   ]
  },
  {
   "cell_type": "code",
   "execution_count": 13,
   "id": "cd63ae72",
   "metadata": {},
   "outputs": [
    {
     "data": {
      "text/plain": [
       "AIMessage(content='', additional_kwargs={'tool_calls': [{'id': 'call_2k01', 'function': {'arguments': '{\"query\": \"machine learning\"}', 'name': 'wikipedia'}, 'type': 'function'}]}, response_metadata={'token_usage': {'completion_tokens': 181, 'prompt_tokens': 319, 'total_tokens': 500, 'completion_time': 0.439637457, 'prompt_time': 0.036311947, 'queue_time': 0.49307971999999994, 'total_time': 0.475949404}, 'model_name': 'qwen-qwq-32b', 'system_fingerprint': 'fp_512a3da6bb', 'finish_reason': 'tool_calls', 'logprobs': None}, id='run-ce03be26-842c-496a-a514-0553284ed488-0', tool_calls=[{'name': 'wikipedia', 'args': {'query': 'machine learning'}, 'id': 'call_2k01', 'type': 'tool_call'}], usage_metadata={'input_tokens': 319, 'output_tokens': 181, 'total_tokens': 500})"
      ]
     },
     "execution_count": 13,
     "metadata": {},
     "output_type": "execute_result"
    }
   ],
   "source": [
    "llm_with_tools.invoke(\"What is machine learning?\")"
   ]
  },
  {
   "cell_type": "markdown",
   "id": "3dfa759a",
   "metadata": {},
   "source": [
    "## Workflow"
   ]
  },
  {
   "cell_type": "code",
   "execution_count": 14,
   "id": "95ab966f",
   "metadata": {},
   "outputs": [],
   "source": [
    "## State Schema\n",
    "from typing_extensions import TypedDict\n",
    "from langchain_core.messages import AnyMessage # human message or AI message\n",
    "from typing import Annotated # labelling \n",
    "from langgraph.graph.message import add_messages # Reducers in Langgraph\n"
   ]
  },
  {
   "cell_type": "code",
   "execution_count": 15,
   "id": "e798f883",
   "metadata": {},
   "outputs": [],
   "source": [
    "class State(TypedDict):\n",
    "    messages: Annotated[list[AnyMessage], add_messages] # list of messages\n",
    "    "
   ]
  },
  {
   "cell_type": "code",
   "execution_count": 16,
   "id": "6fb2fc0e",
   "metadata": {},
   "outputs": [],
   "source": [
    "## Entire Chatbot with Langgraph\n",
    "from IPython.display import Image, display\n",
    "from langgraph.graph import StateGraph, START, END\n",
    "from langgraph.prebuilt import ToolNode\n",
    "from langgraph.prebuilt import tools_condition\n"
   ]
  },
  {
   "cell_type": "code",
   "execution_count": 29,
   "id": "2732b96c",
   "metadata": {},
   "outputs": [
    {
     "data": {
      "text/plain": [
       "<langgraph.graph.state.StateGraph at 0x1c347a14f50>"
      ]
     },
     "execution_count": 29,
     "metadata": {},
     "output_type": "execute_result"
    }
   ],
   "source": [
    "## Node Defenition\n",
    "def tool_calling_llm(state:State):\n",
    "    return {\"messages\":[llm_with_tools.invoke(state[\"messages\"])]}\n",
    "\n",
    "# Build graph\n",
    "builder=StateGraph(State)\n",
    "builder.add_node(\"tool_calling_llm\",tool_calling_llm)\n",
    "builder.add_node(\"tools\",ToolNode(tools))\n"
   ]
  },
  {
   "cell_type": "code",
   "execution_count": null,
   "id": "5285e52a",
   "metadata": {},
   "outputs": [
    {
     "name": "stderr",
     "output_type": "stream",
     "text": [
      "Adding an edge to a graph that has already been compiled. This will not be reflected in the compiled graph.\n",
      "Adding an edge to a graph that has already been compiled. This will not be reflected in the compiled graph.\n"
     ]
    },
    {
     "ename": "ValueError",
     "evalue": "Branch with name `tools_condition` already exists for node `tool_calling_llm`",
     "output_type": "error",
     "traceback": [
      "\u001b[31m---------------------------------------------------------------------------\u001b[39m",
      "\u001b[31mValueError\u001b[39m                                Traceback (most recent call last)",
      "\u001b[36mCell\u001b[39m\u001b[36m \u001b[39m\u001b[32mIn[41]\u001b[39m\u001b[32m, line 3\u001b[39m\n\u001b[32m      1\u001b[39m \u001b[38;5;66;03m## Edges\u001b[39;00m\n\u001b[32m      2\u001b[39m builder.add_edge(START,\u001b[33m\"\u001b[39m\u001b[33mtool_calling_llm\u001b[39m\u001b[33m\"\u001b[39m)\n\u001b[32m----> \u001b[39m\u001b[32m3\u001b[39m \u001b[43mbuilder\u001b[49m\u001b[43m.\u001b[49m\u001b[43madd_conditional_edges\u001b[49m\u001b[43m(\u001b[49m\n\u001b[32m      4\u001b[39m \u001b[43m    \u001b[49m\u001b[33;43m\"\u001b[39;49m\u001b[33;43mtool_calling_llm\u001b[39;49m\u001b[33;43m\"\u001b[39;49m\u001b[43m,\u001b[49m\n\u001b[32m      5\u001b[39m \u001b[43m    \u001b[49m\u001b[38;5;66;43;03m# If the latest message(result) from assistant is a tool call --> tools_conditon routes to tools\u001b[39;49;00m\n\u001b[32m      6\u001b[39m \u001b[43m    \u001b[49m\u001b[38;5;66;43;03m# If the latest message(result) from assistant is not a tool call --> END\u001b[39;49;00m\n\u001b[32m      7\u001b[39m \u001b[43m    \u001b[49m\u001b[43mtools_condition\u001b[49m\u001b[43m,\u001b[49m\n\u001b[32m      8\u001b[39m \u001b[43m)\u001b[49m\n\u001b[32m      9\u001b[39m builder.add_edge(\u001b[33m\"\u001b[39m\u001b[33mtools\u001b[39m\u001b[33m\"\u001b[39m,END)\n\u001b[32m     10\u001b[39m display(Image(graph.get_graph().draw_mermaid_png()))\n",
      "\u001b[36mFile \u001b[39m\u001b[32me:\\Vsc_files\\Langraph\\venv\\Lib\\site-packages\\langgraph\\graph\\state.py:529\u001b[39m, in \u001b[36mStateGraph.add_conditional_edges\u001b[39m\u001b[34m(self, source, path, path_map, then)\u001b[39m\n\u001b[32m    527\u001b[39m \u001b[38;5;66;03m# validate the condition\u001b[39;00m\n\u001b[32m    528\u001b[39m \u001b[38;5;28;01mif\u001b[39;00m name \u001b[38;5;129;01min\u001b[39;00m \u001b[38;5;28mself\u001b[39m.branches[source]:\n\u001b[32m--> \u001b[39m\u001b[32m529\u001b[39m     \u001b[38;5;28;01mraise\u001b[39;00m \u001b[38;5;167;01mValueError\u001b[39;00m(\n\u001b[32m    530\u001b[39m         \u001b[33mf\u001b[39m\u001b[33m\"\u001b[39m\u001b[33mBranch with name `\u001b[39m\u001b[38;5;132;01m{\u001b[39;00mpath.name\u001b[38;5;132;01m}\u001b[39;00m\u001b[33m` already exists for node \u001b[39m\u001b[33m\"\u001b[39m \u001b[33mf\u001b[39m\u001b[33m\"\u001b[39m\u001b[33m`\u001b[39m\u001b[38;5;132;01m{\u001b[39;00msource\u001b[38;5;132;01m}\u001b[39;00m\u001b[33m`\u001b[39m\u001b[33m\"\u001b[39m\n\u001b[32m    531\u001b[39m     )\n\u001b[32m    532\u001b[39m \u001b[38;5;66;03m# save it\u001b[39;00m\n\u001b[32m    533\u001b[39m \u001b[38;5;28mself\u001b[39m.branches[source][name] = Branch.from_path(path, path_map, then, \u001b[38;5;28;01mTrue\u001b[39;00m)\n",
      "\u001b[31mValueError\u001b[39m: Branch with name `tools_condition` already exists for node `tool_calling_llm`"
     ]
    }
   ],
   "source": [
    "## Edges\n",
    "builder.add_edge(START,\"tool_calling_llm\")\n",
    "builder.add_conditional_edges(\n",
    "    \"tool_calling_llm\",\n",
    "    # If the latest message(result) from assistant is a tool call --> tools_conditon routes to tools\n",
    "    # If the latest message(result) from assistant is not a tool call --> END\n",
    "    tools_condition,\n",
    ")\n",
    "builder.add_edge(\"tools\",END)\n",
    "\n",
    "graph=builder.compile() \n",
    "display(Image(graph.get_graph().draw_mermaid_png()))"
   ]
  },
  {
   "cell_type": "code",
   "execution_count": null,
   "id": "59367580",
   "metadata": {},
   "outputs": [
    {
     "name": "stdout",
     "output_type": "stream",
     "text": [
      "{'tools_condition': Branch(path=tools_condition(tags=None, recurse=True, explode_args=False, func_accepts_config=False, func_accepts={}), ends={'tools': 'tools', '__end__': '__end__'}, then=None, input_schema=None)}\n"
     ]
    }
   ],
   "source": []
  },
  {
   "cell_type": "code",
   "execution_count": null,
   "id": "2658228e",
   "metadata": {},
   "outputs": [],
   "source": []
  }
 ],
 "metadata": {
  "kernelspec": {
   "display_name": "venv",
   "language": "python",
   "name": "python3"
  },
  "language_info": {
   "codemirror_mode": {
    "name": "ipython",
    "version": 3
   },
   "file_extension": ".py",
   "mimetype": "text/x-python",
   "name": "python",
   "nbconvert_exporter": "python",
   "pygments_lexer": "ipython3",
   "version": "3.13.2"
  }
 },
 "nbformat": 4,
 "nbformat_minor": 5
}
